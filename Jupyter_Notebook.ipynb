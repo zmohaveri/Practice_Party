{
  "cells": [
    {
      "cell_type": "markdown",
      "metadata": {
        "id": "PAJO4IOLUlUt"
      },
      "source": [
        "<center>\n",
        "    <img src=\"https://cf-courses-data.s3.us.cloud-object-storage.appdomain.cloud/IBMDeveloperSkillsNetwork-DS0105EN-SkillsNetwork/labs/Module2/images/SN_web_lightmode.png\" width=\"300\" alt=\"cognitiveclass.ai logo\">\n",
        "</center>\n"
      ]
    },
    {
      "cell_type": "markdown",
      "metadata": {
        "id": "klQLfQ_mUlUu"
      },
      "source": [
        "#### Add your code below following the instructions given in the course\n"
      ]
    },
    {
      "cell_type": "markdown",
      "source": [
        "#My Jupyter Notebook on IBM Watson Studio"
      ],
      "metadata": {
        "id": "1tjltDcaU1Ri"
      }
    },
    {
      "cell_type": "markdown",
      "source": [
        "**Zahra**\n",
        "\n",
        "Data Scientist"
      ],
      "metadata": {
        "id": "W97hk7U2U-K-"
      }
    },
    {
      "cell_type": "markdown",
      "source": [
        "I am interested in data science because it's cool."
      ],
      "metadata": {
        "id": "_eR68NbxVMEt"
      }
    },
    {
      "cell_type": "markdown",
      "source": [
        "###The following code multiplies two numbers."
      ],
      "metadata": {
        "id": "mZpTtmXmVnhm"
      }
    },
    {
      "cell_type": "code",
      "source": [
        "a = int(input())\n",
        "b = int(input())\n",
        "print(f'{a} times {b} is {a*b}!')"
      ],
      "metadata": {
        "colab": {
          "base_uri": "https://localhost:8080/"
        },
        "id": "E9GyPuNqVm3U",
        "outputId": "9cc4f050-6d3d-49f7-baeb-3e991fde2965"
      },
      "execution_count": 3,
      "outputs": [
        {
          "output_type": "stream",
          "name": "stdout",
          "text": [
            "3\n",
            "5\n",
            "3 times 5 is 15!\n"
          ]
        }
      ]
    },
    {
      "cell_type": "markdown",
      "source": [
        "####This is a Markdown-show-off cell!\n",
        "\n",
        "---\n",
        "\n",
        "The following things are demonstrated here:\n",
        "\n",
        "*   horizontal rule ↑↑\n",
        "*   bulleted list (!)\n",
        "*   [Hyperlink](https://en.wikipedia.org/wiki/Hyperlink) \n",
        "*   ~~strikethrough~~\n",
        "\n",
        "\n"
      ],
      "metadata": {
        "id": "LPykE52uWtx1"
      }
    }
  ],
  "metadata": {
    "kernelspec": {
      "display_name": "Python",
      "language": "python",
      "name": "conda-env-python-py"
    },
    "language_info": {
      "name": ""
    },
    "colab": {
      "provenance": []
    }
  },
  "nbformat": 4,
  "nbformat_minor": 0
}