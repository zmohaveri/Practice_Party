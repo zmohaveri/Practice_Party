{
  "nbformat": 4,
  "nbformat_minor": 0,
  "metadata": {
    "colab": {
      "provenance": []
    },
    "kernelspec": {
      "name": "python3",
      "display_name": "Python 3"
    },
    "language_info": {
      "name": "python"
    }
  },
  "cells": [
    {
      "cell_type": "markdown",
      "source": [
        "#Data Science Tools and Ecosystem"
      ],
      "metadata": {
        "id": "VKDRNudTcBoo"
      }
    },
    {
      "cell_type": "markdown",
      "source": [
        "In this notebook, Data Science Tools and Ecosystem are summarized."
      ],
      "metadata": {
        "id": "pvJOnOBNcDuk"
      }
    },
    {
      "cell_type": "markdown",
      "source": [
        "Some of the popular languages that Data Scientists use are:\n",
        "\n",
        "1.   Python\n",
        "2.   SQL\n",
        "3.   R\n",
        "\n",
        "\n"
      ],
      "metadata": {
        "id": "NZl9s8qzcii1"
      }
    },
    {
      "cell_type": "markdown",
      "source": [
        "Some of the commonly used Python libraries by Data Scientists include:\n",
        "\n",
        "1.   Tensorflow\n",
        "2.   Numpy\n",
        "2.   Pandas\n",
        "1. Scikit-learn\n",
        "1. PyTorch"
      ],
      "metadata": {
        "id": "4yo2fJw8c6y3"
      }
    },
    {
      "cell_type": "markdown",
      "source": [
        "| Data Science Tools     | \n",
        "| ----------- | \n",
        "| Jupyter Notebook     | \n",
        "| RStudio   | \n",
        "| Spyder   | \n",
        "| MySQL  | "
      ],
      "metadata": {
        "id": "gzTJF0W1eAJJ"
      }
    },
    {
      "cell_type": "markdown",
      "source": [
        "Below are a few examples of evaluating arithmetic expressions in Python:"
      ],
      "metadata": {
        "id": "EOMzyGgFfZN7"
      }
    },
    {
      "cell_type": "code",
      "execution_count": 3,
      "metadata": {
        "colab": {
          "base_uri": "https://localhost:8080/"
        },
        "id": "srOfb-m_bjQA",
        "outputId": "4ecdc761-ef7b-4900-e355-f8029041d331"
      },
      "outputs": [
        {
          "output_type": "execute_result",
          "data": {
            "text/plain": [
              "17"
            ]
          },
          "metadata": {},
          "execution_count": 3
        }
      ],
      "source": [
        "#This a simple arithmetic expression to mutiply then add integers\n",
        "(3*4)+5"
      ]
    },
    {
      "cell_type": "code",
      "source": [
        "#This will convert 200 minutes to hours by diving by 60\n",
        "200/60"
      ],
      "metadata": {
        "colab": {
          "base_uri": "https://localhost:8080/"
        },
        "id": "dllxeBfCf2oR",
        "outputId": "c2deae23-d6fd-48a8-93b7-5912f6c28347"
      },
      "execution_count": 7,
      "outputs": [
        {
          "output_type": "execute_result",
          "data": {
            "text/plain": [
              "3.3333333333333335"
            ]
          },
          "metadata": {},
          "execution_count": 7
        }
      ]
    },
    {
      "cell_type": "markdown",
      "source": [
        "**Objectives**:\n",
        "*   Learn different Markdown syntax\n",
        "*   Comment\n",
        "* List popular languages for Data Science\n",
        "* List popular libraries for Data Science"
      ],
      "metadata": {
        "id": "B-qMasuogu0Q"
      }
    },
    {
      "cell_type": "markdown",
      "source": [
        "##Autor\n",
        "zmohaveri"
      ],
      "metadata": {
        "id": "87xkQhDziMp8"
      }
    }
  ]
}